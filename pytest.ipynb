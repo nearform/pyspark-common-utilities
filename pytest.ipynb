{
 "cells": [
  {
   "cell_type": "code",
   "execution_count": 9,
   "id": "9385f253-22cd-4438-974b-0bbf1add55b2",
   "metadata": {},
   "outputs": [],
   "source": [
    "import ipytest\n",
    "ipytest.autoconfig()\n"
   ]
  },
  {
   "cell_type": "code",
   "execution_count": 10,
   "id": "0545f893-0793-42cc-9a0d-8caca6fd6be8",
   "metadata": {},
   "outputs": [],
   "source": [
    "from pyspark.sql import SparkSession\n",
    "from src.utilities import remove_duplicates, fill_nulls,flatten_json\n",
    "\n",
    "\n",
    "spark = SparkSession.builder.master(\"local[*]\").appName(\"Test\").getOrCreate()"
   ]
  },
  {
   "cell_type": "code",
   "execution_count": 4,
   "id": "1d36a04f-a6f6-4468-a610-388fc3c68788",
   "metadata": {},
   "outputs": [
    {
     "name": "stderr",
     "output_type": "stream",
     "text": [
      "[Stage 0:>                                                        (0 + 12) / 12]"
     ]
    },
    {
     "name": "stdout",
     "output_type": "stream",
     "text": [
      "\u001b[32m.\u001b[0m\u001b[32m                                                                                            [100%]\u001b[0m\n"
     ]
    },
    {
     "name": "stderr",
     "output_type": "stream",
     "text": [
      "                                                                                "
     ]
    }
   ],
   "source": [
    "%%ipytest -qq\n",
    "def test_remove_duplicates():\n",
    "    df = spark.createDataFrame([\n",
    "        (\"Alice\", \"NY\"), (\"Alice\", \"NY\"), (\"Bob\", \"LA\")\n",
    "    ], [\"name\", \"city\"])\n",
    "    result = remove_duplicates(df)\n",
    "    assert result.count() == 2"
   ]
  },
  {
   "cell_type": "code",
   "execution_count": 5,
   "id": "03b07b53-7cd5-41f2-9547-befe5db98d48",
   "metadata": {},
   "outputs": [
    {
     "name": "stdout",
     "output_type": "stream",
     "text": [
      "\u001b[32m.\u001b[0m\u001b[32m                                                                                            [100%]\u001b[0m\n"
     ]
    }
   ],
   "source": [
    "%%ipytest -qq\n",
    "def test_fill_nulls():\n",
    "    df = spark.createDataFrame([\n",
    "        (None, \"NY\"), (\"Bob\", None)\n",
    "    ], [\"name\", \"city\"])\n",
    "    result = fill_nulls(df, {\"name\": \"NA\", \"city\": \"Unknown City\"})\n",
    "    rows = result.collect()\n",
    "    assert rows[0][\"name\"] == \"NA\"\n",
    "    assert rows[1][\"city\"] == \"Unknown City\"\n"
   ]
  },
  {
   "cell_type": "code",
   "execution_count": 20,
   "id": "25ed35de-2f21-4190-9343-f30e6ce19e81",
   "metadata": {
    "jp-MarkdownHeadingCollapsed": true
   },
   "outputs": [
    {
     "name": "stdout",
     "output_type": "stream",
     "text": [
      "\u001b[32m.\u001b[0m\u001b[32m                                                                                            [100%]\u001b[0m\n"
     ]
    }
   ],
   "source": [
    "%%ipytest -qq\n",
    "def test_flatten_json_exploding_arrays():\n",
    "    data = [{\n",
    "        \"id\": 1,\n",
    "        \"name\": \"John\",\n",
    "        \"address\": {\"city\": \"NY\", \"zipcode\": 12345},\n",
    "        \"phones\": [\n",
    "            {\"type\": \"home\", \"number\": \"1234\"},\n",
    "            {\"type\": \"work\", \"number\": \"5678\"}\n",
    "        ]\n",
    "    }]\n",
    "    df = spark.read.json(spark.sparkContext.parallelize(data))\n",
    "\n",
    "    result=flatten_json(df,explode_arrays=True)\n",
    "    # Check flattened columns\n",
    "    expected_cols = {\"id\", \"name\", \"address_city\", \"address_zipcode\", \"phones_type\", \"phones_number\"}\n",
    "    assert set(result.columns) == expected_cols\n",
    "    # Check number of output rows count \n",
    "    assert result.count() == 2"
   ]
  },
  {
   "cell_type": "code",
   "execution_count": 22,
   "id": "6b98b818-139d-4820-9cda-60dd92db968e",
   "metadata": {},
   "outputs": [
    {
     "name": "stdout",
     "output_type": "stream",
     "text": [
      "\u001b[32m.\u001b[0m\u001b[32m                                                                                            [100%]\u001b[0m\n"
     ]
    }
   ],
   "source": [
    "%%ipytest -qq\n",
    "def test_flatten_json_exploding_arrays():\n",
    "    data = [{\n",
    "        \"id\": 1,\n",
    "        \"name\": \"John\",\n",
    "        \"address\": {\"city\": \"NY\", \"zipcode\": 12345},\n",
    "        \"phones\": [\n",
    "            {\"type\": \"home\", \"number\": \"1234\"},\n",
    "            {\"type\": \"work\", \"number\": \"5678\"}\n",
    "        ]\n",
    "    }]\n",
    "    df = spark.read.json(spark.sparkContext.parallelize(data))\n",
    "\n",
    "    result=flatten_json(df,explode_arrays=False)\n",
    "    # Check flattened columns\n",
    "    expected_cols = {\"id\", \"name\", \"address_city\", \"address_zipcode\", \"phones\"}\n",
    "    assert set(result.columns) == expected_cols\n",
    "    # Check number of output rows count \n",
    "    assert result.count() == 1"
   ]
  },
  {
   "cell_type": "code",
   "execution_count": null,
   "id": "2bb88d67-1ff0-41e7-bdb7-b4b02bf3e25d",
   "metadata": {},
   "outputs": [],
   "source": []
  }
 ],
 "metadata": {
  "kernelspec": {
   "display_name": "Python (PySpark)",
   "language": "python",
   "name": "pyspark"
  },
  "language_info": {
   "codemirror_mode": {
    "name": "ipython",
    "version": 3
   },
   "file_extension": ".py",
   "mimetype": "text/x-python",
   "name": "python",
   "nbconvert_exporter": "python",
   "pygments_lexer": "ipython3",
   "version": "3.9.6"
  }
 },
 "nbformat": 4,
 "nbformat_minor": 5
}
